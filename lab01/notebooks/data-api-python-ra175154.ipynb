{
 "cells": [
  {
   "cell_type": "markdown",
   "metadata": {},
   "source": [
    "# World Health Organization Data\n",
    "\n",
    "## Global Health Observatory\n",
    "\n",
    "* [Data query API](https://apps.who.int/gho/data/node.resources.api)\n",
    "* [GHO OData API ](https://www.who.int/data/gho/info/gho-odata-api)\n",
    "\n",
    "Para se determinar o tipo de informação para acesso veja a [lista de dimensões e códigos](https://apps.who.int/gho/athena/api/GHO). Utilize o código disponível no campo `<Code label=\"\">`. Por exemplo, no campo `<Code Label=\"WHOSIS_000001\">` é possível encontrar o código `WHOSIS_000001` que indica `Life expectancy at birth (years)`.\n",
    "\n",
    "Depois de estabelecida a informação, podem ser configurados parâmetros, com o sufixo `?` depois da URL. Os parâmetros são separados por `?`.\n",
    "\n",
    "Os códigos dos países são encontrados em: [https://apps.who.int/gho/athena/api/COUNTRY](https://apps.who.int/gho/athena/api/COUNTRY)."
   ]
  },
  {
   "cell_type": "markdown",
   "metadata": {},
   "source": [
    "## Importando dados em JSON no Python\n",
    "\n",
    "![JSON](json.png)"
   ]
  },
  {
   "cell_type": "code",
   "execution_count": 6,
   "metadata": {},
   "outputs": [
    {
     "name": "stdout",
     "output_type": "stream",
     "text": [
      "(c) World Health Organization\n"
     ]
    }
   ],
   "source": [
    "import io\n",
    "import requests\n",
    "import json\n",
    "url = \"https://apps.who.int/gho/athena/api/GHO/WHOSIS_000001?filter=COUNTRY:BRA&format=json\"\n",
    "js = json.loads(requests.get(url).content)\n",
    "print(js[\"copyright\"])"
   ]
  },
  {
   "cell_type": "markdown",
   "metadata": {},
   "source": [
    "## Importando dados em CSV no Python\n",
    "\n",
    "![CSV](csv.png)"
   ]
  },
  {
   "cell_type": "code",
   "execution_count": null,
   "metadata": {},
   "outputs": [],
   "source": [
    "import pandas as pd\n",
    "import io\n",
    "import requests\n",
    "url = \"https://apps.who.int/gho/athena/api/GHO/WHOSIS_000001?filter=COUNTRY:BRA&format=csv\"\n",
    "data = requests.get(url).content\n",
    "csv = pd.read_csv(io.StringIO(data.decode(\"utf-8\")))\n",
    "print(csv)"
   ]
  },
  {
   "cell_type": "markdown",
   "metadata": {},
   "source": [
    "# Importando dados em XML no Python\n",
    "\n",
    "![XML](xml.png)"
   ]
  },
  {
   "cell_type": "code",
   "execution_count": 8,
   "metadata": {},
   "outputs": [
    {
     "name": "stdout",
     "output_type": "stream",
     "text": [
      "<xml.etree.ElementTree.ElementTree object at 0x7fb2cf85c1d0>\n"
     ]
    }
   ],
   "source": [
    "import io\n",
    "import requests\n",
    "import xml.etree.ElementTree as et\n",
    "url = \"https://apps.who.int/gho/athena/api/GHO/WHOSIS_000001?filter=COUNTRY:BRA\"\n",
    "data = requests.get(url).content\n",
    "x = et.parse(io.StringIO(data.decode(\"utf-8\")))\n",
    "print(x)"
   ]
  },
  {
   "cell_type": "markdown",
   "metadata": {},
   "source": [
    "# Tarefa 1\n",
    "\n",
    "Das fontes de dados disponíveis, tente encontrar fontes com formatos diferentes e importá-las via Python. Busque pelo menos dois formatos."
   ]
  },
  {
   "cell_type": "code",
   "execution_count": 2,
   "metadata": {},
   "outputs": [
    {
     "name": "stdout",
     "output_type": "stream",
     "text": [
      "     region region_code  period  pct_hospitals_basic_ehr_notes  \\\n",
      "0  Maryland          MD    2015                           0.95   \n",
      "\n",
      "   pct_rural_hospitals_basic_ehr_notes  pct_small_hospitals_basic_ehr_notes  \\\n",
      "0                                    1                                    1   \n",
      "\n",
      "   pct_critical_access_hospitals_basic_ehr_notes  \\\n",
      "0                                            NaN   \n",
      "\n",
      "   pct_hospitals_basic_ehr_no_notes  pct_rural_hospitals_basic_ehr_no_notes  \\\n",
      "0                                 1                                       1   \n",
      "\n",
      "   pct_small_hospitals_basic_ehr_no_notes  ...  \\\n",
      "0                                       1  ...   \n",
      "\n",
      "   pct_hospitals_share_care_summaries_any_outside_provs  \\\n",
      "0                                           0.816705      \n",
      "\n",
      "   pct_hospitals_share_care_summaries_any_outside_hospitals  \\\n",
      "0                                           0.686933          \n",
      "\n",
      "   pct_hospitals_share_care_summaries_any_outside_ambu_provs  \\\n",
      "0                                           0.760856           \n",
      "\n",
      "   pct_hospitals_patients_vdt  pct_hospitals_patients_secure_message  \\\n",
      "0                        0.84                               0.573986   \n",
      "\n",
      "   pct_hospitals_find_clinical_info  pct_hospitals_send_clinical_info  \\\n",
      "0                              0.86                              0.93   \n",
      "\n",
      "   pct_hospitals_receive_clinical_info  \\\n",
      "0                                 0.67   \n",
      "\n",
      "   pct_hospitals_integrate_any_clinical_info  pct_hospitals_integrate_scr  \n",
      "0                                       0.46                          0.2  \n",
      "\n",
      "[1 rows x 29 columns]\n"
     ]
    }
   ],
   "source": [
    "import requests\n",
    "import io\n",
    "import pandas as pd\n",
    "url = 'https://dashboard.healthit.gov/api/open-api.php?source=AHA_2008-2015.csv&region=Maryland&period=2015&format=csv'\n",
    "data = requests.get(url).content\n",
    "csv = pd.read_csv(io.StringIO(data.decode(\"utf-8\")))\n",
    "print(csv)"
   ]
  },
  {
   "cell_type": "code",
   "execution_count": 8,
   "metadata": {},
   "outputs": [
    {
     "name": "stdout",
     "output_type": "stream",
     "text": [
      "{'21': {'region': 'Maryland', 'region_code': 'MD', 'period': '2015', 'pct_hospitals_basic_ehr_notes': '0.95', 'pct_rural_hospitals_basic_ehr_notes': '1', 'pct_small_hospitals_basic_ehr_notes': '1', 'pct_critical_access_hospitals_basic_ehr_notes': '', 'pct_hospitals_basic_ehr_no_notes': '1', 'pct_rural_hospitals_basic_ehr_no_notes': '1', 'pct_small_hospitals_basic_ehr_no_notes': '1', 'pct_critical_access_hospitals_basic_ehr_no_notes': '', 'pct_hospitals_cehrt': '1', 'pct_small_rural_hospitals_cehrt': '1', 'pct_cah_hospitals_cehrt': '', 'pct_hospitals_share_labs_any_outside_provs': '0.736076684', 'pct_hospitals_share_labs_any_outside_hospitals': '0.479798295', 'pct_hospitals_share_labs_any_outside_ambu_provs': '0.654745427', 'pct_hospitals_patients_ecopy_ehr': '', 'pct_hospitals_patients_ecopy_discharge_instr': '', 'pct_hospitals_share_care_summaries_any_outside_provs': '0.816704762', 'pct_hospitals_share_care_summaries_any_outside_hospitals': '0.686932567', 'pct_hospitals_share_care_summaries_any_outside_ambu_provs': '0.760856413', 'pct_hospitals_patients_vdt': '0.84', 'pct_hospitals_patients_secure_message': '0.573985857', 'pct_hospitals_find_clinical_info': '0.86', 'pct_hospitals_send_clinical_info': '0.93', 'pct_hospitals_receive_clinical_info': '0.67', 'pct_hospitals_integrate_any_clinical_info': '0.46', 'pct_hospitals_integrate_scr': '0.2'}}\n"
     ]
    }
   ],
   "source": [
    "import json\n",
    "import requests\n",
    "url = 'https://dashboard.healthit.gov/api/open-api.php?source=AHA_2008-2015.csv&region=Maryland&period=2015&format=json'\n",
    "js = json.loads(requests.get(url).content)\n",
    "print(js)"
   ]
  },
  {
   "cell_type": "markdown",
   "metadata": {},
   "source": [
    "# Tarefa 2\n",
    "\n",
    "## Engenharia reversa\n",
    "\n",
    "Monte um diagramas que representem modelos dos dados que você terá acesso e como pretende associá-los. Coloque abaixo uma imagem do diagrama."
   ]
  },
  {
   "cell_type": "markdown",
   "metadata": {},
   "source": [
    "![Tarefa02Img](../images/DiagramaLab01Tarefa02.png)"
   ]
  },
  {
   "cell_type": "code",
   "execution_count": null,
   "metadata": {},
   "outputs": [],
   "source": []
  }
 ],
 "metadata": {
  "kernelspec": {
   "display_name": "Python 3",
   "language": "python",
   "name": "python3"
  },
  "language_info": {
   "codemirror_mode": {
    "name": "ipython",
    "version": 3
   },
   "file_extension": ".py",
   "mimetype": "text/x-python",
   "name": "python",
   "nbconvert_exporter": "python",
   "pygments_lexer": "ipython3",
   "version": "3.6.9"
  }
 },
 "nbformat": 4,
 "nbformat_minor": 4
}
